{
 "cells": [
  {
   "cell_type": "code",
   "execution_count": null,
   "id": "56e77328-213b-4075-acf1-3d5d59f01ba0",
   "metadata": {},
   "outputs": [],
   "source": [
    "from pathlib import Path\n",
    "\n",
    "import ray\n",
    "\n",
    "from ray_hpc_workflows.ray_cluster import RayCluster\n",
    "from ray_hpc_workflows.ray_utils import ray_map"
   ]
  },
  {
   "cell_type": "code",
   "execution_count": null,
   "id": "9ae6324d-96cc-431e-b920-2dbf5a96c683",
   "metadata": {},
   "outputs": [],
   "source": [
    "cluster = RayCluster(account=\"bii_nssac\", runtime_h=24, head_job_type=\"rivanna:bii\")"
   ]
  },
  {
   "cell_type": "code",
   "execution_count": null,
   "id": "d2cdc3e4-68bd-4940-8ef7-e9463169360e",
   "metadata": {},
   "outputs": [],
   "source": [
    "cluster.scale_workers(\"rivanna:bii\", 10)"
   ]
  },
  {
   "cell_type": "code",
   "execution_count": null,
   "id": "434df179-fae0-4f89-bc93-b29e8b5123e8",
   "metadata": {},
   "outputs": [],
   "source": [
    "def do_step_pi(start, stop, step, stepsize):\n",
    "    x, s = 0.0, 0.0\n",
    "    for i in range(start, stop, step):\n",
    "        x = (i + 0.5) * stepsize\n",
    "        s += 4.0 / (1.0 + x * x)\n",
    "    return s"
   ]
  },
  {
   "cell_type": "code",
   "execution_count": null,
   "id": "a7ecb70a-6f71-493f-874d-e4d1468a9e73",
   "metadata": {},
   "outputs": [],
   "source": [
    "num_steps = 100000000000\n",
    "stepsize = 1.0 / num_steps"
   ]
  },
  {
   "cell_type": "code",
   "execution_count": null,
   "id": "610ce30f-fa0f-45ef-9589-b580b32e9eba",
   "metadata": {},
   "outputs": [],
   "source": [
    "par = int(cluster.num_cpus_requested())\n",
    "args_list = [(i,) for i in range(par)]\n",
    "extra_args = (num_steps, par, stepsize)\n",
    "\n",
    "pi = ray_map(do_step_pi, args_list, extra_args, num_workers=par)\n",
    "pi = sum(pi) * stepsize\n",
    "pi"
   ]
  },
  {
   "cell_type": "code",
   "execution_count": null,
   "id": "e4ee357f-7806-4154-9667-e9ed89295341",
   "metadata": {},
   "outputs": [],
   "source": [
    "cluster.close()"
   ]
  },
  {
   "cell_type": "code",
   "execution_count": null,
   "id": "f5283da5-e107-4f97-b0fb-766e8f2cc427",
   "metadata": {},
   "outputs": [],
   "source": []
  }
 ],
 "metadata": {
  "kernelspec": {
   "display_name": "Python [conda env:hp12] *",
   "language": "python",
   "name": "conda-env-hp12-py"
  },
  "language_info": {
   "codemirror_mode": {
    "name": "ipython",
    "version": 3
   },
   "file_extension": ".py",
   "mimetype": "text/x-python",
   "name": "python",
   "nbconvert_exporter": "python",
   "pygments_lexer": "ipython3",
   "version": "3.12.7"
  }
 },
 "nbformat": 4,
 "nbformat_minor": 5
}
